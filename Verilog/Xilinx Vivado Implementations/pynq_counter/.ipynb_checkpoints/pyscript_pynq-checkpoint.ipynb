{
 "cells": [
  {
   "cell_type": "code",
   "execution_count": null,
   "id": "807dc00a-62e6-4c7e-b699-717a1f1b1f93",
   "metadata": {},
   "outputs": [],
   "source": [
    "from pynq import Overlay \n",
    "from pynq import GPIO\n",
    "from pynq import Clocks\n",
    "o1=Overlay(\"./pynq_counter.bit\")"
   ]
  },
  {
   "cell_type": "code",
   "execution_count": null,
   "id": "4e550070-8e0e-45ce-aa0d-346d02e1ada3",
   "metadata": {},
   "outputs": [],
   "source": [
    "Reset= GPIO(GPIO.get_gpio_pin(0),'out')\n",
    "Mode= GPIO(GPIO.get_gpio_pin(1),'out')"
   ]
  },
  {
   "cell_type": "code",
   "execution_count": null,
   "id": "2389dabb-76c1-4fe2-b295-a3ac628146ba",
   "metadata": {},
   "outputs": [],
   "source": [
    "Mode.write(0)\n",
    "stop.write(0)"
   ]
  },
  {
   "cell_type": "code",
   "execution_count": null,
   "id": "caea9259-bb83-48ee-84c5-a7f0a66cf8c1",
   "metadata": {},
   "outputs": [],
   "source": [
    "Clocks.fclk0_mhz=1\n",
    "print(f'FCLK0: {Clocks.fclk0_mhz:.6f}Mhz')"
   ]
  },
  {
   "cell_type": "code",
   "execution_count": null,
   "id": "d2a4168c-4865-46d6-a64a-a125568c94b0",
   "metadata": {},
   "outputs": [],
   "source": [
    "Mode.write(1)\n",
    "stop.write(1)"
   ]
  },
  {
   "cell_type": "code",
   "execution_count": null,
   "id": "f162bbea-4b1c-40bd-9754-b5aa7499ebf4",
   "metadata": {},
   "outputs": [],
   "source": [
    "Reset.write(1)\n",
    "Clock.write(1)"
   ]
  }
 ],
 "metadata": {
  "kernelspec": {
   "display_name": "Python 3 (ipykernel)",
   "language": "python",
   "name": "python3"
  },
  "language_info": {
   "codemirror_mode": {
    "name": "ipython",
    "version": 3
   },
   "file_extension": ".py",
   "mimetype": "text/x-python",
   "name": "python",
   "nbconvert_exporter": "python",
   "pygments_lexer": "ipython3",
   "version": "3.11.7"
  }
 },
 "nbformat": 4,
 "nbformat_minor": 5
}
